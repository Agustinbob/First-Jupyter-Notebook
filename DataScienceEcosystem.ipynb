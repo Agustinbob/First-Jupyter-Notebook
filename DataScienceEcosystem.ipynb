{
 "cells": [
  {
   "cell_type": "markdown",
   "id": "5e309a2a-b8e5-4a32-9b76-98eb13a3c88a",
   "metadata": {},
   "source": [
    "# Data Science Tools and Ecosystem"
   ]
  },
  {
   "cell_type": "markdown",
   "id": "1c1b2a9a-7e09-4368-9125-63ca5b02c542",
   "metadata": {},
   "source": [
    "In this notebook, Data Science Tools and Ecosystem are summarized."
   ]
  },
  {
   "cell_type": "markdown",
   "id": "ae84710b-ed0d-49f3-b6c9-02937607711e",
   "metadata": {},
   "source": [
    "### Objectives:"
   ]
  },
  {
   "cell_type": "markdown",
   "id": "a7da4002-6da2-4a13-b07f-a0ef28b5b2b2",
   "metadata": {},
   "source": [
    "* Most common libraries used by Data Scientists\n",
    "* Arithmetic expressions in Python\n",
    "* Integers "
   ]
  },
  {
   "cell_type": "markdown",
   "id": "e28bba0f-039c-476b-8697-1f7dc126d84b",
   "metadata": {},
   "source": [
    "Some of the popular languages that Data Scientists use are:\n",
    "\n",
    "+ Python\n",
    "+ R\n",
    "+ C++"
   ]
  },
  {
   "cell_type": "markdown",
   "id": "94473656-e1c1-48c1-a591-aea9d8a350b2",
   "metadata": {},
   "source": [
    "Some of the commonly used libraries used by Data Scientists include:\n",
    "    \n",
    "+ TensorFlow\n",
    "+ NunPy\n",
    "+ Pandas "
   ]
  },
  {
   "cell_type": "markdown",
   "id": "72be919c-abf9-400d-8591-b6e31161ddb0",
   "metadata": {},
   "source": [
    "| Data Science tools |\n",
    "----------------------\n",
    "|* TensorFlow|\n",
    "|* Apache Spark|\n",
    "|* RStudio|\n"
   ]
  },
  {
   "cell_type": "markdown",
   "id": "bcd2d5d5-31c3-4b4d-a074-1f644bfc5b40",
   "metadata": {},
   "source": [
    "### Below are a few examples of evaluating arithmetic expressions in Python"
   ]
  },
  {
   "cell_type": "code",
   "execution_count": 2,
   "id": "e8db151f-8ae9-44be-9ea0-7898066e2b77",
   "metadata": {},
   "outputs": [
    {
     "data": {
      "text/plain": [
       "60"
      ]
     },
     "execution_count": 2,
     "metadata": {},
     "output_type": "execute_result"
    }
   ],
   "source": [
    "56+4"
   ]
  },
  {
   "cell_type": "code",
   "execution_count": 3,
   "id": "f8ea4d57-71e9-4d6c-9c94-1fec465b1d0f",
   "metadata": {},
   "outputs": [
    {
     "data": {
      "text/plain": [
       "523"
      ]
     },
     "execution_count": 3,
     "metadata": {},
     "output_type": "execute_result"
    }
   ],
   "source": [
    "23*25-52"
   ]
  },
  {
   "cell_type": "code",
   "execution_count": 4,
   "id": "ad554ee0-528f-476a-b0a8-77a2c120f18a",
   "metadata": {},
   "outputs": [
    {
     "data": {
      "text/plain": [
       "124.6"
      ]
     },
     "execution_count": 4,
     "metadata": {},
     "output_type": "execute_result"
    }
   ],
   "source": [
    "(8-65)+(454*1.2)/3"
   ]
  },
  {
   "cell_type": "markdown",
   "id": "13b3ac4d-164d-43a9-bf92-6aca8469086f",
   "metadata": {},
   "source": [
    "### Exercise 8"
   ]
  },
  {
   "cell_type": "markdown",
   "id": "1bd6cecf-ff36-4f12-a821-ea76e132837b",
   "metadata": {},
   "source": [
    "This a simple arithmetic expression to multiply then add integers"
   ]
  },
  {
   "cell_type": "code",
   "execution_count": 5,
   "id": "a6157cfd-d158-491f-b034-5139f948301f",
   "metadata": {},
   "outputs": [
    {
     "data": {
      "text/plain": [
       "17"
      ]
     },
     "execution_count": 5,
     "metadata": {},
     "output_type": "execute_result"
    }
   ],
   "source": [
    "(3*4)+5"
   ]
  },
  {
   "cell_type": "markdown",
   "id": "5c75e0bf-0a8c-446d-9652-bec86a68a030",
   "metadata": {},
   "source": [
    "### Exercise 9"
   ]
  },
  {
   "cell_type": "markdown",
   "id": "a0583687-0ca1-4d0d-8530-3aa68a51c634",
   "metadata": {},
   "source": [
    "This will convert 200 minutes to hours by diving by 60"
   ]
  },
  {
   "cell_type": "code",
   "execution_count": 7,
   "id": "b0adda2b-36cc-4392-a974-73be2f3786c6",
   "metadata": {},
   "outputs": [
    {
     "data": {
      "text/plain": [
       "3.3333333333333335"
      ]
     },
     "execution_count": 7,
     "metadata": {},
     "output_type": "execute_result"
    }
   ],
   "source": [
    "200/60"
   ]
  },
  {
   "cell_type": "markdown",
   "id": "4747dfc5-f8ad-410a-93f7-e6d04648828d",
   "metadata": {},
   "source": [
    "## Author\n",
    "Agustin Bobadilla"
   ]
  },
  {
   "cell_type": "code",
   "execution_count": null,
   "id": "0b4a9af8-b3dc-41b3-840c-966c8324fe4c",
   "metadata": {},
   "outputs": [],
   "source": []
  }
 ],
 "metadata": {
  "kernelspec": {
   "display_name": "Python",
   "language": "python",
   "name": "conda-env-python-py"
  },
  "language_info": {
   "codemirror_mode": {
    "name": "ipython",
    "version": 3
   },
   "file_extension": ".py",
   "mimetype": "text/x-python",
   "name": "python",
   "nbconvert_exporter": "python",
   "pygments_lexer": "ipython3",
   "version": "3.7.12"
  }
 },
 "nbformat": 4,
 "nbformat_minor": 5
}
